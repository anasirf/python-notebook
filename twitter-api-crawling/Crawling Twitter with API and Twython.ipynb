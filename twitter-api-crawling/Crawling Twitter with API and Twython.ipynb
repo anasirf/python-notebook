{
 "cells": [
  {
   "cell_type": "markdown",
   "metadata": {},
   "source": [
    "# Import Library dan API Token\n",
    "Meng-import semua library yang dibutuhkan.\n",
    "\n",
    "Pada script ini, yang API connector diguanakan adalah Twython.\n",
    "\n",
    "Seluruh key dapat diperoleh di https://apps.twitter.com/"
   ]
  },
  {
   "cell_type": "code",
   "execution_count": 2,
   "metadata": {},
   "outputs": [],
   "source": [
    "from twython import Twython\n",
    "import json"
   ]
  },
  {
   "cell_type": "code",
   "execution_count": 4,
   "metadata": {},
   "outputs": [],
   "source": [
    "TWITTER_APP_KEY = 'your app key'\n",
    "TWITTER_APP_KEY_SECRET = 'your app key secret' \n",
    "TWITTER_ACCESS_TOKEN = 'your twitter access token'\n",
    "TWITTER_ACCESS_TOKEN_SECRET = 'your twitter access token secret'\n",
    "\n",
    "t = Twython(app_key=TWITTER_APP_KEY, \n",
    "            app_secret=TWITTER_APP_KEY_SECRET, \n",
    "            oauth_token=TWITTER_ACCESS_TOKEN, \n",
    "            oauth_token_secret=TWITTER_ACCESS_TOKEN_SECRET)"
   ]
  },
  {
   "cell_type": "markdown",
   "metadata": {},
   "source": [
    "# Melakukan searching dengan Twitter API"
   ]
  },
  {
   "cell_type": "code",
   "execution_count": 9,
   "metadata": {},
   "outputs": [],
   "source": [
    "term = 'Indonesia'\n",
    "tweet_metadatas = t.search(q=term,count=100,result_type='recent')"
   ]
  },
  {
   "cell_type": "markdown",
   "metadata": {},
   "source": [
    "## Mengambil salah satu tweet sebagai JSON"
   ]
  },
  {
   "cell_type": "code",
   "execution_count": 10,
   "metadata": {},
   "outputs": [
    {
     "name": "stdout",
     "output_type": "stream",
     "text": [
      "{'created_at': 'Sun Oct 21 14:13:25 +0000 2018', 'id': 1054012787486158848, 'id_str': '1054012787486158848', 'text': 'Tetap semangatt buat indonesia meskipun kalah....  \\nYour all the best... \\n#football #IndonesiaBangga', 'truncated': False, 'entities': {'hashtags': [{'text': 'football', 'indices': [74, 83]}, {'text': 'IndonesiaBangga', 'indices': [84, 100]}], 'symbols': [], 'user_mentions': [], 'urls': []}, 'metadata': {'iso_language_code': 'in', 'result_type': 'recent'}, 'source': '<a href=\"http://twitter.com/download/android\" rel=\"nofollow\">Twitter for Android</a>', 'in_reply_to_status_id': None, 'in_reply_to_status_id_str': None, 'in_reply_to_user_id': None, 'in_reply_to_user_id_str': None, 'in_reply_to_screen_name': None, 'user': {'id': 3226840861, 'id_str': '3226840861', 'name': 'aldi_muhamad', 'screen_name': 'AldiDalem', 'location': 'Jakarta Timur, DKI Jakarta', 'description': 'tetap semangat dlm menjalankan aktivitas', 'url': None, 'entities': {'description': {'urls': []}}, 'protected': False, 'followers_count': 75, 'friends_count': 375, 'listed_count': 0, 'created_at': 'Tue May 26 04:55:53 +0000 2015', 'favourites_count': 525, 'utc_offset': None, 'time_zone': None, 'geo_enabled': True, 'verified': False, 'statuses_count': 765, 'lang': 'en', 'contributors_enabled': False, 'is_translator': False, 'is_translation_enabled': False, 'profile_background_color': 'C0DEED', 'profile_background_image_url': 'http://abs.twimg.com/images/themes/theme1/bg.png', 'profile_background_image_url_https': 'https://abs.twimg.com/images/themes/theme1/bg.png', 'profile_background_tile': False, 'profile_image_url': 'http://pbs.twimg.com/profile_images/1053989165497348096/vRTGsfLl_normal.jpg', 'profile_image_url_https': 'https://pbs.twimg.com/profile_images/1053989165497348096/vRTGsfLl_normal.jpg', 'profile_banner_url': 'https://pbs.twimg.com/profile_banners/3226840861/1539905551', 'profile_link_color': '1DA1F2', 'profile_sidebar_border_color': 'C0DEED', 'profile_sidebar_fill_color': 'DDEEF6', 'profile_text_color': '333333', 'profile_use_background_image': True, 'has_extended_profile': True, 'default_profile': True, 'default_profile_image': False, 'following': False, 'follow_request_sent': False, 'notifications': False, 'translator_type': 'none'}, 'geo': None, 'coordinates': None, 'place': None, 'contributors': None, 'is_quote_status': False, 'retweet_count': 0, 'favorite_count': 0, 'favorited': False, 'retweeted': False, 'lang': 'in'}\n"
     ]
    }
   ],
   "source": [
    "print(tweet_metadatas['statuses'][0])"
   ]
  },
  {
   "cell_type": "markdown",
   "metadata": {},
   "source": [
    "### Mengambil isi tweet"
   ]
  },
  {
   "cell_type": "code",
   "execution_count": 11,
   "metadata": {},
   "outputs": [
    {
     "name": "stdout",
     "output_type": "stream",
     "text": [
      "Tetap semangatt buat indonesia meskipun kalah....  \n",
      "Your all the best... \n",
      "#football #IndonesiaBangga\n"
     ]
    }
   ],
   "source": [
    "print(tweet_metadatas['statuses'][0]['text'])"
   ]
  },
  {
   "cell_type": "markdown",
   "metadata": {},
   "source": [
    "### Mengambil username dari yang ngetweet"
   ]
  },
  {
   "cell_type": "code",
   "execution_count": 13,
   "metadata": {},
   "outputs": [
    {
     "name": "stdout",
     "output_type": "stream",
     "text": [
      "AldiDalem\n"
     ]
    }
   ],
   "source": [
    "print(tweet_metadatas['statuses'][0]['user']['screen_name'])"
   ]
  },
  {
   "cell_type": "markdown",
   "metadata": {},
   "source": [
    "### Mendapatkan jumlah following dan follower"
   ]
  },
  {
   "cell_type": "code",
   "execution_count": 17,
   "metadata": {},
   "outputs": [
    {
     "name": "stdout",
     "output_type": "stream",
     "text": [
      "375 75\n"
     ]
    }
   ],
   "source": [
    "print(tweet_metadatas['statuses'][0]['user']['friends_count'],tweet_metadatas['statuses'][0]['user']['followers_count'],)"
   ]
  }
 ],
 "metadata": {
  "kernelspec": {
   "display_name": "Python 3",
   "language": "python",
   "name": "python3"
  },
  "language_info": {
   "codemirror_mode": {
    "name": "ipython",
    "version": 3
   },
   "file_extension": ".py",
   "mimetype": "text/x-python",
   "name": "python",
   "nbconvert_exporter": "python",
   "pygments_lexer": "ipython3",
   "version": "3.6.5"
  }
 },
 "nbformat": 4,
 "nbformat_minor": 2
}
